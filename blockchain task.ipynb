{
 "cells": [
  {
   "cell_type": "markdown",
   "id": "2923f2e6",
   "metadata": {},
   "source": [
    "# Load all of the essential libraries:"
   ]
  },
  {
   "cell_type": "code",
   "execution_count": 1,
   "id": "92e3a273",
   "metadata": {},
   "outputs": [],
   "source": [
    "import requests\n",
    "import pandas as pd\n",
    "from datetime import datetime\n",
    "from datetime import timedelta\n",
    "import seaborn as sns\n",
    "import matplotlib.pyplot as plt\n",
    "import numpy as np\n",
    "import warnings"
   ]
  },
  {
   "cell_type": "markdown",
   "id": "97cf500e",
   "metadata": {},
   "source": [
    "# Load the dataset:"
   ]
  },
  {
   "cell_type": "code",
   "execution_count": 2,
   "id": "6f560270",
   "metadata": {},
   "outputs": [
    {
     "data": {
      "text/html": [
       "<div>\n",
       "<style scoped>\n",
       "    .dataframe tbody tr th:only-of-type {\n",
       "        vertical-align: middle;\n",
       "    }\n",
       "\n",
       "    .dataframe tbody tr th {\n",
       "        vertical-align: top;\n",
       "    }\n",
       "\n",
       "    .dataframe thead th {\n",
       "        text-align: right;\n",
       "    }\n",
       "</style>\n",
       "<table border=\"1\" class=\"dataframe\">\n",
       "  <thead>\n",
       "    <tr style=\"text-align: right;\">\n",
       "      <th></th>\n",
       "      <th>Unnamed: 0</th>\n",
       "      <th>Hash</th>\n",
       "      <th>Confirmations</th>\n",
       "      <th>Timestamp</th>\n",
       "      <th>Height</th>\n",
       "      <th>Number of Transactions</th>\n",
       "      <th>Difficulty</th>\n",
       "      <th>Merkle root</th>\n",
       "      <th>Version</th>\n",
       "      <th>Bits</th>\n",
       "      <th>Weight</th>\n",
       "      <th>Size</th>\n",
       "      <th>Nonce</th>\n",
       "      <th>Transaction Volume</th>\n",
       "      <th>Block Reward</th>\n",
       "      <th>Fee Reward</th>\n",
       "      <th>Miner Name</th>\n",
       "      <th>URL Miner</th>\n",
       "      <th>0</th>\n",
       "    </tr>\n",
       "  </thead>\n",
       "  <tbody>\n",
       "    <tr>\n",
       "      <th>0</th>\n",
       "      <td>0</td>\n",
       "      <td>00000000000000000001da49981856df74f84c46da2319...</td>\n",
       "      <td>1</td>\n",
       "      <td>2021-05-09 03:01</td>\n",
       "      <td>682676</td>\n",
       "      <td>1,945</td>\n",
       "      <td>20,608,845,737,768.16</td>\n",
       "      <td>d393294a4577f92a0c6b027948bae63138d6acd657d142...</td>\n",
       "      <td>0x3fff0000</td>\n",
       "      <td>386,771,043</td>\n",
       "      <td>3,999,550 WU</td>\n",
       "      <td>1,523,698 bytes</td>\n",
       "      <td>2,925,554,323</td>\n",
       "      <td>6956.53517309 BTC</td>\n",
       "      <td>6.25000000 BTC</td>\n",
       "      <td>0.65500240 BTC</td>\n",
       "      <td>Poolin</td>\n",
       "      <td>/btc/address/17HzvxMhoke5K3oavLzPGkLy4zd35KjWEb</td>\n",
       "      <td>NaN</td>\n",
       "    </tr>\n",
       "    <tr>\n",
       "      <th>1</th>\n",
       "      <td>0</td>\n",
       "      <td>00000000000000000001e888b808b8f337f36e1fa28e2c...</td>\n",
       "      <td>1</td>\n",
       "      <td>2021-05-09 02:40</td>\n",
       "      <td>682675</td>\n",
       "      <td>2,010</td>\n",
       "      <td>20,608,845,737,768.16</td>\n",
       "      <td>91641c10f45dc08bb437f99f7c6dfd8117bf820b321ef3...</td>\n",
       "      <td>0x37ffe004</td>\n",
       "      <td>386,771,043</td>\n",
       "      <td>3,993,252 WU</td>\n",
       "      <td>1,281,744 bytes</td>\n",
       "      <td>249,145,076</td>\n",
       "      <td>17870.61409089 BTC</td>\n",
       "      <td>6.25000000 BTC</td>\n",
       "      <td>0.74946810 BTC</td>\n",
       "      <td>AntPool</td>\n",
       "      <td>/btc/address/12dRugNcdxK39288NjcDV4GX7rMsKCGn6B</td>\n",
       "      <td>NaN</td>\n",
       "    </tr>\n",
       "    <tr>\n",
       "      <th>2</th>\n",
       "      <td>1</td>\n",
       "      <td>0000000000000000000b056f6fc7d074eed8a3b11a21db...</td>\n",
       "      <td>1</td>\n",
       "      <td>2021-05-09 02:19</td>\n",
       "      <td>682674</td>\n",
       "      <td>112</td>\n",
       "      <td>20,608,845,737,768.16</td>\n",
       "      <td>ff9266b8eda52b2326ba30848e470a732463aa856e86c0...</td>\n",
       "      <td>0x20004000</td>\n",
       "      <td>386,771,043</td>\n",
       "      <td>3,993,026 WU</td>\n",
       "      <td>1,042,718 bytes</td>\n",
       "      <td>1,747,276,293</td>\n",
       "      <td>299.78126644 BTC</td>\n",
       "      <td>6.25000000 BTC</td>\n",
       "      <td>0.06751435 BTC</td>\n",
       "      <td>Unknown</td>\n",
       "      <td>/btc/address/35y82tEPDa2wm6tzkEacMG8GPPW7zbMj83</td>\n",
       "      <td>NaN</td>\n",
       "    </tr>\n",
       "    <tr>\n",
       "      <th>3</th>\n",
       "      <td>2</td>\n",
       "      <td>000000000000000000092b15e61d2d8de335b77e1575c9...</td>\n",
       "      <td>2</td>\n",
       "      <td>2021-05-09 02:19</td>\n",
       "      <td>682673</td>\n",
       "      <td>112</td>\n",
       "      <td>20,608,845,737,768.16</td>\n",
       "      <td>04a80cbaffc463e26ccb6a0696c67f0be60e4736e67dd7...</td>\n",
       "      <td>0x20000000</td>\n",
       "      <td>386,771,043</td>\n",
       "      <td>3,993,008 WU</td>\n",
       "      <td>1,060,403 bytes</td>\n",
       "      <td>4,174,040,095</td>\n",
       "      <td>457.30745450 BTC</td>\n",
       "      <td>6.25000000 BTC</td>\n",
       "      <td>0.06265385 BTC</td>\n",
       "      <td>Unknown</td>\n",
       "      <td>/btc/address/35y82tEPDa2wm6tzkEacMG8GPPW7zbMj83</td>\n",
       "      <td>NaN</td>\n",
       "    </tr>\n",
       "    <tr>\n",
       "      <th>4</th>\n",
       "      <td>3</td>\n",
       "      <td>000000000000000000034261ef486c4fb78e4e967c9874...</td>\n",
       "      <td>3</td>\n",
       "      <td>2021-05-09 02:18</td>\n",
       "      <td>682672</td>\n",
       "      <td>398</td>\n",
       "      <td>20,608,845,737,768.16</td>\n",
       "      <td>0c3955cf4e2caee926f89799ee7adda005bb2f6b9ab161...</td>\n",
       "      <td>0x20c00004</td>\n",
       "      <td>386,771,043</td>\n",
       "      <td>3,998,374 WU</td>\n",
       "      <td>1,115,599 bytes</td>\n",
       "      <td>4,262,967,091</td>\n",
       "      <td>1388.16878694 BTC</td>\n",
       "      <td>6.25000000 BTC</td>\n",
       "      <td>0.15195586 BTC</td>\n",
       "      <td>F2Pool</td>\n",
       "      <td>/btc/address/1KFHE7w8BhaENAswwryaoccDb6qcT6DbYY</td>\n",
       "      <td>NaN</td>\n",
       "    </tr>\n",
       "  </tbody>\n",
       "</table>\n",
       "</div>"
      ],
      "text/plain": [
       "   Unnamed: 0                                               Hash  \\\n",
       "0           0  00000000000000000001da49981856df74f84c46da2319...   \n",
       "1           0  00000000000000000001e888b808b8f337f36e1fa28e2c...   \n",
       "2           1  0000000000000000000b056f6fc7d074eed8a3b11a21db...   \n",
       "3           2  000000000000000000092b15e61d2d8de335b77e1575c9...   \n",
       "4           3  000000000000000000034261ef486c4fb78e4e967c9874...   \n",
       "\n",
       "  Confirmations         Timestamp  Height Number of Transactions  \\\n",
       "0             1  2021-05-09 03:01  682676                  1,945   \n",
       "1             1  2021-05-09 02:40  682675                  2,010   \n",
       "2             1  2021-05-09 02:19  682674                    112   \n",
       "3             2  2021-05-09 02:19  682673                    112   \n",
       "4             3  2021-05-09 02:18  682672                    398   \n",
       "\n",
       "              Difficulty                                        Merkle root  \\\n",
       "0  20,608,845,737,768.16  d393294a4577f92a0c6b027948bae63138d6acd657d142...   \n",
       "1  20,608,845,737,768.16  91641c10f45dc08bb437f99f7c6dfd8117bf820b321ef3...   \n",
       "2  20,608,845,737,768.16  ff9266b8eda52b2326ba30848e470a732463aa856e86c0...   \n",
       "3  20,608,845,737,768.16  04a80cbaffc463e26ccb6a0696c67f0be60e4736e67dd7...   \n",
       "4  20,608,845,737,768.16  0c3955cf4e2caee926f89799ee7adda005bb2f6b9ab161...   \n",
       "\n",
       "      Version         Bits        Weight             Size          Nonce  \\\n",
       "0  0x3fff0000  386,771,043  3,999,550 WU  1,523,698 bytes  2,925,554,323   \n",
       "1  0x37ffe004  386,771,043  3,993,252 WU  1,281,744 bytes    249,145,076   \n",
       "2  0x20004000  386,771,043  3,993,026 WU  1,042,718 bytes  1,747,276,293   \n",
       "3  0x20000000  386,771,043  3,993,008 WU  1,060,403 bytes  4,174,040,095   \n",
       "4  0x20c00004  386,771,043  3,998,374 WU  1,115,599 bytes  4,262,967,091   \n",
       "\n",
       "   Transaction Volume    Block Reward      Fee Reward Miner Name  \\\n",
       "0   6956.53517309 BTC  6.25000000 BTC  0.65500240 BTC     Poolin   \n",
       "1  17870.61409089 BTC  6.25000000 BTC  0.74946810 BTC    AntPool   \n",
       "2    299.78126644 BTC  6.25000000 BTC  0.06751435 BTC    Unknown   \n",
       "3    457.30745450 BTC  6.25000000 BTC  0.06265385 BTC    Unknown   \n",
       "4   1388.16878694 BTC  6.25000000 BTC  0.15195586 BTC     F2Pool   \n",
       "\n",
       "                                         URL Miner   0  \n",
       "0  /btc/address/17HzvxMhoke5K3oavLzPGkLy4zd35KjWEb NaN  \n",
       "1  /btc/address/12dRugNcdxK39288NjcDV4GX7rMsKCGn6B NaN  \n",
       "2  /btc/address/35y82tEPDa2wm6tzkEacMG8GPPW7zbMj83 NaN  \n",
       "3  /btc/address/35y82tEPDa2wm6tzkEacMG8GPPW7zbMj83 NaN  \n",
       "4  /btc/address/1KFHE7w8BhaENAswwryaoccDb6qcT6DbYY NaN  "
      ]
     },
     "execution_count": 2,
     "metadata": {},
     "output_type": "execute_result"
    }
   ],
   "source": [
    "warnings.filterwarnings('ignore')\n",
    "# Initialize a dataframe called df.\n",
    "df = pd.read_csv(\"Blockschain.csv\")\n",
    "# Extract first five rows.\n",
    "df.head(5)"
   ]
  },
  {
   "cell_type": "code",
   "execution_count": 3,
   "id": "c2b0b5ca",
   "metadata": {},
   "outputs": [],
   "source": [
    "# Drop the irrelevant column in the dataframe.\n",
    "df = df.drop(['0'], axis = 1)"
   ]
  },
  {
   "cell_type": "code",
   "execution_count": 4,
   "id": "c32feeb6",
   "metadata": {},
   "outputs": [
    {
     "name": "stdout",
     "output_type": "stream",
     "text": [
      "The data contains the information from the year 2009-01-09 02:54 to the year 2021-05-09 03:01 .\n"
     ]
    }
   ],
   "source": [
    "print('The data contains the information from the year',df['Timestamp'].min(),\"to the year\",\n",
    "df['Timestamp'].max(),\".\")"
   ]
  },
  {
   "cell_type": "markdown",
   "id": "71e66d41",
   "metadata": {},
   "source": [
    "# Find missing values, na values, and null values:"
   ]
  },
  {
   "cell_type": "code",
   "execution_count": 5,
   "id": "71891594",
   "metadata": {},
   "outputs": [
    {
     "data": {
      "image/png": "[encoded data removed]",
      "text/plain": [
       "<Figure size 1300x300 with 2 Axes>"
      ]
     },
     "metadata": {},
     "output_type": "display_data"
    }
   ],
   "source": [
    "plt.figure(figsize = (13,3))\n",
    "plt.subplot(1,2,1)\n",
    "sns.heatmap(df.isna(),cmap = 'viridis', cbar = False)\n",
    "plt.title('Heatmap of na values in the data')\n",
    "plt.subplot(1,2,2)\n",
    "sns.heatmap(df.isnull(), cmap = 'viridis', cbar = False)\n",
    "plt.title('Heatmap of null values in the data')\n",
    "\n",
    "plt.show()\n",
    "plt.tight_layout()"
   ]
  },
  {
   "cell_type": "code",
   "execution_count": 21,
   "id": "d93de1cf",
   "metadata": {},
   "outputs": [
    {
     "name": "stdout",
     "output_type": "stream",
     "text": [
      "Any na values in the dataset are as follows:  Hash                      0\n",
      "Timestamp                 0\n",
      "Number of Transactions    0\n",
      "Size                      0\n",
      "Hour                      0\n",
      "Minute                    0\n",
      "dtype: int64 \n",
      " \n",
      " Any null values in the dataset are as follows: Hash                      0\n",
      "Timestamp                 0\n",
      "Number of Transactions    0\n",
      "Size                      0\n",
      "Hour                      0\n",
      "Minute                    0\n",
      "dtype: int64\n"
     ]
    }
   ],
   "source": [
    "print(\"Any na values in the dataset are as follows: \",df.isna().sum(),\"\\n\",\"\\n\",\n",
    "      \"Any null values in the dataset are as follows:\",df.isnull().sum())"
   ]
  },
  {
   "cell_type": "markdown",
   "id": "e8de1b61",
   "metadata": {},
   "source": [
    "As we can see, there are no na and null values detected in the heatmap and summary table."
   ]
  },
  {
   "cell_type": "code",
   "execution_count": 7,
   "id": "e6125f97",
   "metadata": {},
   "outputs": [
    {
     "data": {
      "text/html": [
       "<div>\n",
       "<style scoped>\n",
       "    .dataframe tbody tr th:only-of-type {\n",
       "        vertical-align: middle;\n",
       "    }\n",
       "\n",
       "    .dataframe tbody tr th {\n",
       "        vertical-align: top;\n",
       "    }\n",
       "\n",
       "    .dataframe thead th {\n",
       "        text-align: right;\n",
       "    }\n",
       "</style>\n",
       "<table border=\"1\" class=\"dataframe\">\n",
       "  <thead>\n",
       "    <tr style=\"text-align: right;\">\n",
       "      <th></th>\n",
       "      <th>Hash</th>\n",
       "      <th>Timestamp</th>\n",
       "      <th>Number of Transactions</th>\n",
       "      <th>Size</th>\n",
       "    </tr>\n",
       "  </thead>\n",
       "  <tbody>\n",
       "    <tr>\n",
       "      <th>0</th>\n",
       "      <td>00000000000000000001da49981856df74f84c46da2319...</td>\n",
       "      <td>2021-05-09 03:01</td>\n",
       "      <td>1,945</td>\n",
       "      <td>1,523,698 bytes</td>\n",
       "    </tr>\n",
       "    <tr>\n",
       "      <th>1</th>\n",
       "      <td>00000000000000000001e888b808b8f337f36e1fa28e2c...</td>\n",
       "      <td>2021-05-09 02:40</td>\n",
       "      <td>2,010</td>\n",
       "      <td>1,281,744 bytes</td>\n",
       "    </tr>\n",
       "    <tr>\n",
       "      <th>2</th>\n",
       "      <td>0000000000000000000b056f6fc7d074eed8a3b11a21db...</td>\n",
       "      <td>2021-05-09 02:19</td>\n",
       "      <td>112</td>\n",
       "      <td>1,042,718 bytes</td>\n",
       "    </tr>\n",
       "    <tr>\n",
       "      <th>3</th>\n",
       "      <td>000000000000000000092b15e61d2d8de335b77e1575c9...</td>\n",
       "      <td>2021-05-09 02:19</td>\n",
       "      <td>112</td>\n",
       "      <td>1,060,403 bytes</td>\n",
       "    </tr>\n",
       "    <tr>\n",
       "      <th>4</th>\n",
       "      <td>000000000000000000034261ef486c4fb78e4e967c9874...</td>\n",
       "      <td>2021-05-09 02:18</td>\n",
       "      <td>398</td>\n",
       "      <td>1,115,599 bytes</td>\n",
       "    </tr>\n",
       "  </tbody>\n",
       "</table>\n",
       "</div>"
      ],
      "text/plain": [
       "                                                Hash         Timestamp  \\\n",
       "0  00000000000000000001da49981856df74f84c46da2319...  2021-05-09 03:01   \n",
       "1  00000000000000000001e888b808b8f337f36e1fa28e2c...  2021-05-09 02:40   \n",
       "2  0000000000000000000b056f6fc7d074eed8a3b11a21db...  2021-05-09 02:19   \n",
       "3  000000000000000000092b15e61d2d8de335b77e1575c9...  2021-05-09 02:19   \n",
       "4  000000000000000000034261ef486c4fb78e4e967c9874...  2021-05-09 02:18   \n",
       "\n",
       "  Number of Transactions             Size  \n",
       "0                  1,945  1,523,698 bytes  \n",
       "1                  2,010  1,281,744 bytes  \n",
       "2                    112  1,042,718 bytes  \n",
       "3                    112  1,060,403 bytes  \n",
       "4                    398  1,115,599 bytes  "
      ]
     },
     "execution_count": 7,
     "metadata": {},
     "output_type": "execute_result"
    }
   ],
   "source": [
    "# Select relevant variables to solve the two problems.\n",
    "df = df[['Hash', 'Timestamp','Number of Transactions', 'Size']]\n",
    "# Extract first five rows of the dataset.\n",
    "df.head(5)"
   ]
  },
  {
   "cell_type": "code",
   "execution_count": 8,
   "id": "ced76962",
   "metadata": {},
   "outputs": [],
   "source": [
    "# Change the timestamp variable's type.\n",
    "df['Timestamp'] = pd.to_datetime(df['Timestamp'])"
   ]
  },
  {
   "cell_type": "code",
   "execution_count": 9,
   "id": "d7bfce73",
   "metadata": {},
   "outputs": [
    {
     "data": {
      "text/plain": [
       "(682676, 4)"
      ]
     },
     "execution_count": 9,
     "metadata": {},
     "output_type": "execute_result"
    }
   ],
   "source": [
    "# Determine the dimension of the df dataframe.\n",
    "df.shape"
   ]
  },
  {
   "cell_type": "code",
   "execution_count": 10,
   "id": "7b5accc3",
   "metadata": {},
   "outputs": [
    {
     "data": {
      "text/plain": [
       "0         05/09/21 03:01:00\n",
       "1         05/09/21 02:40:00\n",
       "2         05/09/21 02:19:00\n",
       "3         05/09/21 02:19:00\n",
       "4         05/09/21 02:18:00\n",
       "                ...        \n",
       "682671    01/09/09 03:23:00\n",
       "682672    01/09/09 03:16:00\n",
       "682673    01/09/09 03:02:00\n",
       "682674    01/09/09 02:55:00\n",
       "682675    01/09/09 02:54:00\n",
       "Name: Timestamp, Length: 682676, dtype: object"
      ]
     },
     "execution_count": 10,
     "metadata": {},
     "output_type": "execute_result"
    }
   ],
   "source": [
    "# In order to access the timestamp. Convert the timestamp to string from time format.\n",
    "df['Timestamp'].dt.strftime(\"%m/%d/%y %H:%M:%S\")"
   ]
  },
  {
   "cell_type": "code",
   "execution_count": 22,
   "id": "44ad2aee",
   "metadata": {},
   "outputs": [],
   "source": [
    "# Access hour component from the timestamp.\n",
    "df['Hour'] = [x.hour for x in df['Timestamp']]\n",
    "\n",
    "# Access minute component from the timestamp.\n",
    "df['Minute'] = [x.minute for x in df['Timestamp']]"
   ]
  },
  {
   "cell_type": "code",
   "execution_count": 12,
   "id": "48d61858",
   "metadata": {},
   "outputs": [
    {
     "data": {
      "text/html": [
       "<div>\n",
       "<style scoped>\n",
       "    .dataframe tbody tr th:only-of-type {\n",
       "        vertical-align: middle;\n",
       "    }\n",
       "\n",
       "    .dataframe tbody tr th {\n",
       "        vertical-align: top;\n",
       "    }\n",
       "\n",
       "    .dataframe thead th {\n",
       "        text-align: right;\n",
       "    }\n",
       "</style>\n",
       "<table border=\"1\" class=\"dataframe\">\n",
       "  <thead>\n",
       "    <tr style=\"text-align: right;\">\n",
       "      <th></th>\n",
       "      <th>Hash</th>\n",
       "      <th>Timestamp</th>\n",
       "      <th>Number of Transactions</th>\n",
       "      <th>Size</th>\n",
       "      <th>Hour</th>\n",
       "      <th>Minute</th>\n",
       "    </tr>\n",
       "  </thead>\n",
       "  <tbody>\n",
       "    <tr>\n",
       "      <th>0</th>\n",
       "      <td>00000000000000000001da49981856df74f84c46da2319...</td>\n",
       "      <td>2021-05-09 03:01:00</td>\n",
       "      <td>1,945</td>\n",
       "      <td>1,523,698 bytes</td>\n",
       "      <td>3</td>\n",
       "      <td>1</td>\n",
       "    </tr>\n",
       "    <tr>\n",
       "      <th>29</th>\n",
       "      <td>00000000000000000007669ba1695086e40d7e14239681...</td>\n",
       "      <td>2021-05-08 23:49:00</td>\n",
       "      <td>1,699</td>\n",
       "      <td>1,734,505 bytes</td>\n",
       "      <td>23</td>\n",
       "      <td>49</td>\n",
       "    </tr>\n",
       "    <tr>\n",
       "      <th>30</th>\n",
       "      <td>00000000000000000005dcb4040a2480b8ede7864e2abc...</td>\n",
       "      <td>2021-05-08 23:39:00</td>\n",
       "      <td>1,185</td>\n",
       "      <td>1,831,521 bytes</td>\n",
       "      <td>23</td>\n",
       "      <td>39</td>\n",
       "    </tr>\n",
       "    <tr>\n",
       "      <th>31</th>\n",
       "      <td>0000000000000000000b4ea172200b00990e6be37bd373...</td>\n",
       "      <td>2021-05-08 23:38:00</td>\n",
       "      <td>2,641</td>\n",
       "      <td>1,327,530 bytes</td>\n",
       "      <td>23</td>\n",
       "      <td>38</td>\n",
       "    </tr>\n",
       "    <tr>\n",
       "      <th>32</th>\n",
       "      <td>0000000000000000000da50d3a51bbfe40ffeb92978be2...</td>\n",
       "      <td>2021-05-08 23:14:00</td>\n",
       "      <td>321</td>\n",
       "      <td>2,208,473 bytes</td>\n",
       "      <td>23</td>\n",
       "      <td>14</td>\n",
       "    </tr>\n",
       "    <tr>\n",
       "      <th>33</th>\n",
       "      <td>000000000000000000077f15562f5f49f2767893152817...</td>\n",
       "      <td>2021-05-08 23:12:00</td>\n",
       "      <td>2,060</td>\n",
       "      <td>1,473,035 bytes</td>\n",
       "      <td>23</td>\n",
       "      <td>12</td>\n",
       "    </tr>\n",
       "    <tr>\n",
       "      <th>34</th>\n",
       "      <td>0000000000000000000b8a1624f0d6d7ab0c3111a0deae...</td>\n",
       "      <td>2021-05-08 23:05:00</td>\n",
       "      <td>2,271</td>\n",
       "      <td>1,330,344 bytes</td>\n",
       "      <td>23</td>\n",
       "      <td>5</td>\n",
       "    </tr>\n",
       "    <tr>\n",
       "      <th>35</th>\n",
       "      <td>0000000000000000000cd45cebced9c1d1f349ef80df19...</td>\n",
       "      <td>2021-05-08 22:47:00</td>\n",
       "      <td>1,046</td>\n",
       "      <td>1,937,417 bytes</td>\n",
       "      <td>22</td>\n",
       "      <td>47</td>\n",
       "    </tr>\n",
       "    <tr>\n",
       "      <th>36</th>\n",
       "      <td>0000000000000000000c769b66e73ba4476c381b34d27c...</td>\n",
       "      <td>2021-05-08 22:42:00</td>\n",
       "      <td>1,412</td>\n",
       "      <td>1,615,440 bytes</td>\n",
       "      <td>22</td>\n",
       "      <td>42</td>\n",
       "    </tr>\n",
       "    <tr>\n",
       "      <th>37</th>\n",
       "      <td>00000000000000000002ec807f416ae685249ac16dd46f...</td>\n",
       "      <td>2021-05-08 22:35:00</td>\n",
       "      <td>1,569</td>\n",
       "      <td>1,203,127 bytes</td>\n",
       "      <td>22</td>\n",
       "      <td>35</td>\n",
       "    </tr>\n",
       "  </tbody>\n",
       "</table>\n",
       "</div>"
      ],
      "text/plain": [
       "                                                 Hash           Timestamp  \\\n",
       "0   00000000000000000001da49981856df74f84c46da2319... 2021-05-09 03:01:00   \n",
       "29  00000000000000000007669ba1695086e40d7e14239681... 2021-05-08 23:49:00   \n",
       "30  00000000000000000005dcb4040a2480b8ede7864e2abc... 2021-05-08 23:39:00   \n",
       "31  0000000000000000000b4ea172200b00990e6be37bd373... 2021-05-08 23:38:00   \n",
       "32  0000000000000000000da50d3a51bbfe40ffeb92978be2... 2021-05-08 23:14:00   \n",
       "33  000000000000000000077f15562f5f49f2767893152817... 2021-05-08 23:12:00   \n",
       "34  0000000000000000000b8a1624f0d6d7ab0c3111a0deae... 2021-05-08 23:05:00   \n",
       "35  0000000000000000000cd45cebced9c1d1f349ef80df19... 2021-05-08 22:47:00   \n",
       "36  0000000000000000000c769b66e73ba4476c381b34d27c... 2021-05-08 22:42:00   \n",
       "37  00000000000000000002ec807f416ae685249ac16dd46f... 2021-05-08 22:35:00   \n",
       "\n",
       "   Number of Transactions             Size  Hour  Minute  \n",
       "0                   1,945  1,523,698 bytes     3       1  \n",
       "29                  1,699  1,734,505 bytes    23      49  \n",
       "30                  1,185  1,831,521 bytes    23      39  \n",
       "31                  2,641  1,327,530 bytes    23      38  \n",
       "32                    321  2,208,473 bytes    23      14  \n",
       "33                  2,060  1,473,035 bytes    23      12  \n",
       "34                  2,271  1,330,344 bytes    23       5  \n",
       "35                  1,046  1,937,417 bytes    22      47  \n",
       "36                  1,412  1,615,440 bytes    22      42  \n",
       "37                  1,569  1,203,127 bytes    22      35  "
      ]
     },
     "execution_count": 12,
     "metadata": {},
     "output_type": "execute_result"
    }
   ],
   "source": [
    "# Filter the data to the blocks mined more than 2 hours apart from each other. Create a new dataframe called df1.\n",
    "df1 = df[df['Hour'] > 2]\n",
    "# Extract first five rows.\n",
    "df1.head(10)"
   ]
  },
  {
   "cell_type": "markdown",
   "id": "b0c4e356",
   "metadata": {},
   "source": [
    "# How often does the Bitcoin network see two consecutive blocks mined more than 2 hours apart from each other? "
   ]
  },
  {
   "cell_type": "markdown",
   "id": "2c0cebf2",
   "metadata": {},
   "source": [
    "In order to answer the above question, I created a new variable called 'Time_Diff' which signifies the difference among consecutive blocks mined."
   ]
  },
  {
   "cell_type": "code",
   "execution_count": 13,
   "id": "e62d3dda",
   "metadata": {},
   "outputs": [],
   "source": [
    "# # Create a formula which computes the time difference among consecutive blocks mined.\n",
    "df1['Time_Diff'] = df1['Timestamp']-df1['Timestamp'].shift(-1)"
   ]
  },
  {
   "cell_type": "code",
   "execution_count": 14,
   "id": "b5c96158",
   "metadata": {},
   "outputs": [
    {
     "data": {
      "text/html": [
       "<div>\n",
       "<style scoped>\n",
       "    .dataframe tbody tr th:only-of-type {\n",
       "        vertical-align: middle;\n",
       "    }\n",
       "\n",
       "    .dataframe tbody tr th {\n",
       "        vertical-align: top;\n",
       "    }\n",
       "\n",
       "    .dataframe thead th {\n",
       "        text-align: right;\n",
       "    }\n",
       "</style>\n",
       "<table border=\"1\" class=\"dataframe\">\n",
       "  <thead>\n",
       "    <tr style=\"text-align: right;\">\n",
       "      <th></th>\n",
       "      <th>Hash</th>\n",
       "      <th>Size</th>\n",
       "      <th>Time_Diff</th>\n",
       "    </tr>\n",
       "  </thead>\n",
       "  <tbody>\n",
       "    <tr>\n",
       "      <th>0</th>\n",
       "      <td>00000000000000000001da49981856df74f84c46da2319...</td>\n",
       "      <td>1523698</td>\n",
       "      <td>0 days 03:12:00</td>\n",
       "    </tr>\n",
       "    <tr>\n",
       "      <th>29</th>\n",
       "      <td>00000000000000000007669ba1695086e40d7e14239681...</td>\n",
       "      <td>1734505</td>\n",
       "      <td>0 days 00:10:00</td>\n",
       "    </tr>\n",
       "    <tr>\n",
       "      <th>30</th>\n",
       "      <td>00000000000000000005dcb4040a2480b8ede7864e2abc...</td>\n",
       "      <td>1831521</td>\n",
       "      <td>0 days 00:01:00</td>\n",
       "    </tr>\n",
       "    <tr>\n",
       "      <th>31</th>\n",
       "      <td>0000000000000000000b4ea172200b00990e6be37bd373...</td>\n",
       "      <td>1327530</td>\n",
       "      <td>0 days 00:24:00</td>\n",
       "    </tr>\n",
       "    <tr>\n",
       "      <th>32</th>\n",
       "      <td>0000000000000000000da50d3a51bbfe40ffeb92978be2...</td>\n",
       "      <td>2208473</td>\n",
       "      <td>0 days 00:02:00</td>\n",
       "    </tr>\n",
       "    <tr>\n",
       "      <th>33</th>\n",
       "      <td>000000000000000000077f15562f5f49f2767893152817...</td>\n",
       "      <td>1473035</td>\n",
       "      <td>0 days 00:07:00</td>\n",
       "    </tr>\n",
       "    <tr>\n",
       "      <th>34</th>\n",
       "      <td>0000000000000000000b8a1624f0d6d7ab0c3111a0deae...</td>\n",
       "      <td>1330344</td>\n",
       "      <td>0 days 00:18:00</td>\n",
       "    </tr>\n",
       "    <tr>\n",
       "      <th>35</th>\n",
       "      <td>0000000000000000000cd45cebced9c1d1f349ef80df19...</td>\n",
       "      <td>1937417</td>\n",
       "      <td>0 days 00:05:00</td>\n",
       "    </tr>\n",
       "    <tr>\n",
       "      <th>36</th>\n",
       "      <td>0000000000000000000c769b66e73ba4476c381b34d27c...</td>\n",
       "      <td>1615440</td>\n",
       "      <td>0 days 00:07:00</td>\n",
       "    </tr>\n",
       "    <tr>\n",
       "      <th>37</th>\n",
       "      <td>00000000000000000002ec807f416ae685249ac16dd46f...</td>\n",
       "      <td>1203127</td>\n",
       "      <td>0 days 00:03:00</td>\n",
       "    </tr>\n",
       "  </tbody>\n",
       "</table>\n",
       "</div>"
      ],
      "text/plain": [
       "                                                 Hash      Size  \\\n",
       "0   00000000000000000001da49981856df74f84c46da2319...  1523698    \n",
       "29  00000000000000000007669ba1695086e40d7e14239681...  1734505    \n",
       "30  00000000000000000005dcb4040a2480b8ede7864e2abc...  1831521    \n",
       "31  0000000000000000000b4ea172200b00990e6be37bd373...  1327530    \n",
       "32  0000000000000000000da50d3a51bbfe40ffeb92978be2...  2208473    \n",
       "33  000000000000000000077f15562f5f49f2767893152817...  1473035    \n",
       "34  0000000000000000000b8a1624f0d6d7ab0c3111a0deae...  1330344    \n",
       "35  0000000000000000000cd45cebced9c1d1f349ef80df19...  1937417    \n",
       "36  0000000000000000000c769b66e73ba4476c381b34d27c...  1615440    \n",
       "37  00000000000000000002ec807f416ae685249ac16dd46f...  1203127    \n",
       "\n",
       "         Time_Diff  \n",
       "0  0 days 03:12:00  \n",
       "29 0 days 00:10:00  \n",
       "30 0 days 00:01:00  \n",
       "31 0 days 00:24:00  \n",
       "32 0 days 00:02:00  \n",
       "33 0 days 00:07:00  \n",
       "34 0 days 00:18:00  \n",
       "35 0 days 00:05:00  \n",
       "36 0 days 00:07:00  \n",
       "37 0 days 00:03:00  "
      ]
     },
     "execution_count": 14,
     "metadata": {},
     "output_type": "execute_result"
    }
   ],
   "source": [
    "# Use a replace() function to replace the comma from the number of transactions variable.\n",
    "df1['Number of Transactions'] = df1['Number of Transactions'].str.replace(\",\",\"\")\n",
    "\n",
    "# Use a replace() function to replace the comma from the size variable.\n",
    "df1['Size'] = df1['Size'].str.replace(\",\",\"\")\n",
    "df1['Size'] = df1['Size'].str.replace(\"bytes\",\"\")\n",
    "\n",
    "# Extract the desired variables to demonstrate the difference among consecutive blocks mined.\n",
    "df1[['Hash','Size', 'Time_Diff']].head(10)"
   ]
  },
  {
   "cell_type": "markdown",
   "id": "993c671c",
   "metadata": {},
   "source": [
    "After investigting the dataframe, I obtained the time difference among each consecutive blocks mined. The variable 'Time_Diff' indicates the total time taken for the consecutive blocks mined since 2009."
   ]
  },
  {
   "cell_type": "markdown",
   "id": "133c6e76",
   "metadata": {},
   "source": [
    "# Exploratory Data Analysis (EDA)"
   ]
  },
  {
   "cell_type": "code",
   "execution_count": 37,
   "id": "934c55f9",
   "metadata": {},
   "outputs": [
    {
     "data": {
      "text/plain": [
       "<Figure size 640x480 with 0 Axes>"
      ]
     },
     "metadata": {},
     "output_type": "display_data"
    },
    {
     "data": {
      "image/png": "[encoded data removed]",
      "text/plain": [
       "<Figure size 1800x1000 with 4 Axes>"
      ]
     },
     "metadata": {},
     "output_type": "display_data"
    }
   ],
   "source": [
    "warnings.filterwarnings('ignore')\n",
    "plt.figure(figsize = (18,10))\n",
    "\n",
    "plt.subplot(2,3,1)\n",
    "sns.boxplot(x = 'Hour', data = df1)\n",
    "plt.title(\"Box plot of Hour\")\n",
    "\n",
    "plt.subplot(2,3,2)\n",
    "sns.boxplot(x = 'Minute', data = df1)\n",
    "plt.title(\"Box plot of Minute\")\n",
    "\n",
    "\n",
    "plt.subplot(2,3,3)\n",
    "sns.distplot(df1['Number of Transactions'])\n",
    "plt.title(\"The distribution plot of number of transactions\")\n",
    "\n",
    "plt.subplot(2,3,4)\n",
    "sns.distplot(df1['Size'] )\n",
    "plt.title(\"The distribution plot of size\")\n",
    "plt.ticklabel_format(axis='both', style='plain', scilimits=None, \n",
    "                     useOffset=None, \n",
    "                     useLocale=None, useMathText=None)\n",
    "\n",
    "# Show the plots.\n",
    "plt.show()\n",
    "plt.tight_layout() "
   ]
  },
  {
   "cell_type": "markdown",
   "id": "736976d7",
   "metadata": {},
   "source": [
    "The above data visualizatons are based on the filtered data. The data visualization plots indicate the median and distributions along with density smooth curves. The box plot indicates that the median hour blocks mined was 13 hours and the median minutes was 29 minutes. The boxplot didn't show any extreme outliers in the dataset. In the number of transactions per block, the data is highly concetrated around the 100 to 3000 transactions. The size of each block varied since 2009, the distribution of the size indicates the data is concentrated around 1-150 million bytes."
   ]
  },
  {
   "cell_type": "markdown",
   "id": "813397cb",
   "metadata": {},
   "source": [
    "# How many times has the above happened so far in the history of Bitcoin?"
   ]
  },
  {
   "cell_type": "code",
   "execution_count": 35,
   "id": "c25904d0",
   "metadata": {},
   "outputs": [
    {
     "name": "stdout",
     "output_type": "stream",
     "text": [
      "The total number of times it has happened so far in the history of Bitcoin was 597823 times.\n"
     ]
    }
   ],
   "source": [
    "print(\"The total number of times it has happened so far in the history of Bitcoin was\",df1['Hash'].nunique(),\"times.\")"
   ]
  }
 ],
 "metadata": {
  "kernelspec": {
   "display_name": "Python 3",
   "language": "python",
   "name": "python3"
  },
  "language_info": {
   "codemirror_mode": {
    "name": "ipython",
    "version": 3
   },
   "file_extension": ".py",
   "mimetype": "text/x-python",
   "name": "python",
   "nbconvert_exporter": "python",
   "pygments_lexer": "ipython3",
   "version": "3.8.8"
  }
 },
 "nbformat": 4,
 "nbformat_minor": 5
}
